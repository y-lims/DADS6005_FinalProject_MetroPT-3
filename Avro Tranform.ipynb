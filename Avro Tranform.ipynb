{
 "cells": [
  {
   "cell_type": "code",
   "execution_count": 1,
   "metadata": {},
   "outputs": [],
   "source": [
    "import pandas as pd"
   ]
  },
  {
   "cell_type": "code",
   "execution_count": 11,
   "metadata": {},
   "outputs": [],
   "source": [
    "df = pd.read_csv('/Users/scullyz/Downloads/MetroPT3_Offline_test.csv')\n",
    "df1 = pd.read_csv('/Users/scullyz/Downloads/MetroPT3_Offline_train.csv')"
   ]
  },
  {
   "cell_type": "code",
   "execution_count": 15,
   "metadata": {},
   "outputs": [
    {
     "name": "stdout",
     "output_type": "stream",
     "text": [
      "CSV file has been converted to AVRO and saved as /Users/scullyz/Downloads/AAAA/MetroPT3_Offline_test.avro\n"
     ]
    }
   ],
   "source": [
    "import pandas as pd\n",
    "from fastavro import writer, parse_schema, reader\n",
    "\n",
    "# Define the AVRO schema with default values\n",
    "schema = {\n",
    "    \"type\": \"record\",\n",
    "    \"name\": \"DataRecord\",\n",
    "    \"fields\": [\n",
    "        {\"name\": \"timestamp\", \"type\": \"string\", \"default\": \"\"},\n",
    "        {\"name\": \"TP2\", \"type\": \"double\", \"default\": 0.0},\n",
    "        {\"name\": \"TP3\", \"type\": \"double\", \"default\": 0.0},\n",
    "        {\"name\": \"H1\", \"type\": \"double\", \"default\": 0.0},\n",
    "        {\"name\": \"DV_pressure\", \"type\": \"double\", \"default\": 0.0},\n",
    "        {\"name\": \"Reservoirs\", \"type\": \"double\", \"default\": 0.0},\n",
    "        {\"name\": \"Oil_temperature\", \"type\": \"double\", \"default\": 0.0},\n",
    "        {\"name\": \"Motor_current\", \"type\": \"double\", \"default\": 0.0},\n",
    "        {\"name\": \"COMP\", \"type\": \"double\", \"default\": 0.0},\n",
    "        {\"name\": \"DV_electric\", \"type\": \"double\", \"default\": 0.0},\n",
    "        {\"name\": \"Towers\", \"type\": \"double\", \"default\": 0.0},\n",
    "        {\"name\": \"MPG\", \"type\": \"double\", \"default\": 0.0},\n",
    "        {\"name\": \"LPS\", \"type\": \"double\", \"default\": 0.0},\n",
    "        {\"name\": \"Pressure_switch\", \"type\": \"double\", \"default\": 0.0},\n",
    "        {\"name\": \"Oil_level\", \"type\": \"double\", \"default\": 0.0},\n",
    "        {\"name\": \"Caudal_impulses\", \"type\": \"double\", \"default\": 0.0},\n",
    "        {\"name\": \"Severity\", \"type\": \"string\", \"default\": \"\"}\n",
    "    ]\n",
    "}\n",
    "\n",
    "# Convert DataFrame to list of dictionaries with double values rounded to 3 decimal places\n",
    "# Example DataFrame\n",
    "# df = pd.read_csv('your_data.csv')\n",
    "\n",
    "records = []\n",
    "for _, row in df.iterrows():\n",
    "    record = row.to_dict()\n",
    "    for key, value in record.items():\n",
    "        if isinstance(value, float):  # Use float instead of double\n",
    "            record[key] = round(value, 3)\n",
    "    records.append(record)\n",
    "\n",
    "# Define the AVRO file path\n",
    "avro_file_path = \"/Users/scullyz/Downloads/AAAA/MetroPT3_Offline_test.avro\"\n",
    "\n",
    "# Write records to AVRO file\n",
    "with open(avro_file_path, 'wb') as out:\n",
    "    writer(out, parse_schema(schema), records)\n",
    "\n",
    "print(f\"CSV file has been converted to AVRO and saved as {avro_file_path}\")\n"
   ]
  },
  {
   "cell_type": "code",
   "execution_count": 16,
   "metadata": {},
   "outputs": [
    {
     "name": "stdout",
     "output_type": "stream",
     "text": [
      "CSV file has been converted to AVRO and saved as /Users/scullyz/Downloads/AAAA/MetroPT3_Offline_train.avro\n"
     ]
    }
   ],
   "source": [
    "import pandas as pd\n",
    "from fastavro import writer, parse_schema, reader\n",
    "\n",
    "# Define the AVRO schema with default values\n",
    "schema = {\n",
    "    \"type\": \"record\",\n",
    "    \"name\": \"DataRecord\",\n",
    "    \"fields\": [\n",
    "        {\"name\": \"timestamp\", \"type\": \"string\", \"default\": \"\"},\n",
    "        {\"name\": \"TP2\", \"type\": \"double\", \"default\": 0.0},\n",
    "        {\"name\": \"TP3\", \"type\": \"double\", \"default\": 0.0},\n",
    "        {\"name\": \"H1\", \"type\": \"double\", \"default\": 0.0},\n",
    "        {\"name\": \"DV_pressure\", \"type\": \"double\", \"default\": 0.0},\n",
    "        {\"name\": \"Reservoirs\", \"type\": \"double\", \"default\": 0.0},\n",
    "        {\"name\": \"Oil_temperature\", \"type\": \"double\", \"default\": 0.0},\n",
    "        {\"name\": \"Motor_current\", \"type\": \"double\", \"default\": 0.0},\n",
    "        {\"name\": \"COMP\", \"type\": \"double\", \"default\": 0.0},\n",
    "        {\"name\": \"DV_electric\", \"type\": \"double\", \"default\": 0.0},\n",
    "        {\"name\": \"Towers\", \"type\": \"double\", \"default\": 0.0},\n",
    "        {\"name\": \"MPG\", \"type\": \"double\", \"default\": 0.0},\n",
    "        {\"name\": \"LPS\", \"type\": \"double\", \"default\": 0.0},\n",
    "        {\"name\": \"Pressure_switch\", \"type\": \"double\", \"default\": 0.0},\n",
    "        {\"name\": \"Oil_level\", \"type\": \"double\", \"default\": 0.0},\n",
    "        {\"name\": \"Caudal_impulses\", \"type\": \"double\", \"default\": 0.0},\n",
    "        {\"name\": \"Severity\", \"type\": \"string\", \"default\": \"\"}\n",
    "    ]\n",
    "}\n",
    "\n",
    "# Convert DataFrame to list of dictionaries with double values rounded to 3 decimal places\n",
    "# Example DataFrame\n",
    "# df = pd.read_csv('your_data.csv')\n",
    "\n",
    "records = []\n",
    "for _, row in df1.iterrows():\n",
    "    record = row.to_dict()\n",
    "    for key, value in record.items():\n",
    "        if isinstance(value, float):  # Use float instead of double\n",
    "            record[key] = round(value, 3)\n",
    "    records.append(record)\n",
    "\n",
    "# Define the AVRO file path\n",
    "avro_file_path = \"/Users/scullyz/Downloads/AAAA/MetroPT3_Offline_train.avro\"\n",
    "\n",
    "# Write records to AVRO file\n",
    "with open(avro_file_path, 'wb') as out:\n",
    "    writer(out, parse_schema(schema), records)\n",
    "\n",
    "print(f\"CSV file has been converted to AVRO and saved as {avro_file_path}\")\n"
   ]
  },
  {
   "cell_type": "code",
   "execution_count": null,
   "metadata": {},
   "outputs": [],
   "source": []
  }
 ],
 "metadata": {
  "kernelspec": {
   "display_name": "Python 3",
   "language": "python",
   "name": "python3"
  },
  "language_info": {
   "codemirror_mode": {
    "name": "ipython",
    "version": 3
   },
   "file_extension": ".py",
   "mimetype": "text/x-python",
   "name": "python",
   "nbconvert_exporter": "python",
   "pygments_lexer": "ipython3",
   "version": "3.9.6"
  }
 },
 "nbformat": 4,
 "nbformat_minor": 2
}
